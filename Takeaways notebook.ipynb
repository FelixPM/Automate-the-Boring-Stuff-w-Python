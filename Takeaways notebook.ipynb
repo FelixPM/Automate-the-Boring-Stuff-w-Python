{
 "cells": [
  {
   "cell_type": "markdown",
   "source": [
    "#  Automate the boring stuff takeaways\n",
    " 1. [Regular expressions](#Regular-expressions)\n",
    " 2. [Working with Files](#Working-with-Files)\n",
    " 3. [Web Scraping](#Web-Scraping)\n",
    " 4. [Documents](#Documents)\n",
    " 5. [Email](#Email)\n",
    " 6. [GUI Automation](#GUI-Automation)\n"
   ],
   "metadata": {
    "collapsed": false
   }
  },
  {
   "cell_type": "markdown",
   "source": [
    "## Regular expressions"
   ],
   "metadata": {
    "collapsed": false
   }
  },
  {
   "cell_type": "markdown",
   "source": [
    "Regular expressions, called regex for short, are descriptions for a pattern of text.\n",
    "\n",
    "'re' module in Python:\n",
    "\n",
    "- *re.compile()*: to create a regex object - *returns a regex object*\n",
    "\n",
    "- *regex_object.search('string')*: to search for the pattern on string - *returns a match object*\n",
    "\n",
    "- *match_object.group*: string of actual matched text.\n",
    "\n",
    "\n",
    "| Shorthand | Represents |\n",
    "| - | - | \n",
    "| \\d | Any numeric digit from 0 to 9.|\n",
    "| \\D | Any character that is not a numeric digit from 0 to 9. |\n",
    "| \\w | Any letter, numeric digit, or the underscore character. |\n",
    "| \\W | Any character that is not a letter, numeric digit, or the underscore character. |\n",
    "| \\s | Any space, tab, or newline character. |\n",
    "| \\S | Any character that is not a space, tab, or newline. |\n",
    "| \\  | Escape characters |\n",
    "| &#124; | Match one of many |\n",
    "| ? | Optional match |\n",
    "| * | Match zero or more |\n",
    "| + | Match one or more |\n",
    "| {n, m} | Match *n to m* repetitions |\n",
    "| ^ | Match must occur at the beginning |\n",
    "| $ | Match must occur at the end |\n",
    "| . | Wildcard |\n"
   ],
   "metadata": {
    "collapsed": false
   }
  },
  {
   "cell_type": "code",
   "execution_count": null,
   "outputs": [],
   "source": [
    "import re\n",
    "import pyperclip\n"
   ],
   "metadata": {
    "collapsed": false,
    "pycharm": {
     "name": "#%%\n"
    }
   }
  },
  {
   "cell_type": "markdown",
   "source": [
    "Examples\n"
   ],
   "metadata": {
    "collapsed": false
   }
  },
  {
   "cell_type": "code",
   "execution_count": null,
   "outputs": [],
   "source": [
    "phoneRegex = re.compile(r'''(\n",
    "    (\\d{3}|\\(\\d{3}\\))?              # area code\n",
    "    (\\s|-|\\.)?                      # separator\n",
    "    \\d{3}                           # first 3 digits\n",
    "    (\\s|-|\\.)                       # separator\n",
    "    \\d{4}                           # last 4 digits\n",
    "    (\\s*(ext|x|ext.)\\s*\\d{2,5})?    # extension\n",
    "    )''', re.VERBOSE)\n",
    "\n",
    "emailRegex = re.compile(r'''(\n",
    "    [a-zA-Z0-9._%+-]+   # username\n",
    "    @                   # @ symbol\n",
    "    [a-zA-Z0-9.-]+      # domain name\n",
    "    (\\.[a-zA-Z]{2,4})   # dot-something\n",
    "    )''', re.VERBOSE)\n",
    "# Clipboard text\n",
    "text = str(pyperclip.paste())"
   ],
   "metadata": {
    "collapsed": false,
    "pycharm": {
     "name": "#%%\n"
    }
   }
  },
  {
   "cell_type": "code",
   "execution_count": null,
   "outputs": [],
   "source": [
    "matches = []\n",
    "for groups in phoneRegex.findall(text):\n",
    "    matches.append(groups[0])\n",
    "for groups in emailRegex.findall(text):\n",
    "    matches.append(groups[0])\n",
    "\n",
    "if len(matches) > 0:\n",
    "    pyperclip.copy('\\n'.join(matches))\n",
    "    print('Copied to clipboard:')\n",
    "    print('\\n'.join(matches))\n",
    "else:\n",
    "    print('No phone numbers or email addresses found.')"
   ],
   "metadata": {
    "collapsed": false,
    "pycharm": {
     "name": "#%%\n"
    }
   }
  },
  {
   "cell_type": "markdown",
   "source": [
    "\n",
    "### Working with Files"
   ],
   "metadata": {
    "collapsed": false
   }
  },
  {
   "cell_type": "code",
   "execution_count": null,
   "outputs": [],
   "source": [
    "import os\n",
    "import shelve\n",
    "import pprint\n",
    "import shutil\n",
    "import zipfile"
   ],
   "metadata": {
    "collapsed": false,
    "pycharm": {
     "name": "#%%\n"
    }
   }
  },
  {
   "cell_type": "markdown",
   "source": [
    "Working directory and paths"
   ],
   "metadata": {
    "collapsed": false
   }
  },
  {
   "cell_type": "code",
   "execution_count": null,
   "outputs": [],
   "source": [
    "# current working directory\n",
    "print('Current working directory: ')\n",
    "print(os.getcwd())"
   ],
   "metadata": {
    "collapsed": false,
    "pycharm": {
     "name": "#%%\n"
    }
   }
  },
  {
   "cell_type": "code",
   "execution_count": null,
   "outputs": [],
   "source": [
    "# change directory\n",
    "print('\\nChange directory to \\\\test')\n",
    "os.chdir('.\\\\test')\n",
    "print('Current working directory: ')\n",
    "print(os.getcwd())\n",
    "os.chdir('..\\\\')"
   ],
   "metadata": {
    "collapsed": false,
    "pycharm": {
     "name": "#%%\n"
    }
   }
  },
  {
   "cell_type": "code",
   "execution_count": null,
   "outputs": [],
   "source": [
    "# Absolute and Relative paths\n",
    "# Absolute paths always start with root folder, complete path\n",
    "# Relative paths to program current working directory\n",
    "absolute_path = r'D:\\Documents\\PycharmProjects\\Automate-the-Boring-Stuff-w-Python'\n",
    "relative_path = r'.\\Automate-the-Boring-Stuff-w-Python'"
   ],
   "metadata": {
    "collapsed": false,
    "pycharm": {
     "name": "#%%\n"
    }
   }
  },
  {
   "cell_type": "code",
   "execution_count": null,
   "outputs": [],
   "source": [
    "# Relative to absolute path\n",
    "print('\\nAbsolute path to \"test\"')\n",
    "print(os.path.abspath('test'))\n",
    "print('Absolute path to \"..\\\\test\"')\n",
    "print(os.path.abspath('..\\\\test'))"
   ],
   "metadata": {
    "collapsed": false,
    "pycharm": {
     "name": "#%%\n"
    }
   }
  },
  {
   "cell_type": "code",
   "execution_count": null,
   "outputs": [],
   "source": [
    "# Absolute path check\n",
    "print('\\nAbsolute path check: ')\n",
    "print(os.path.isabs(absolute_path))\n",
    "print(os.path.isabs(relative_path))"
   ],
   "metadata": {
    "collapsed": false,
    "pycharm": {
     "name": "#%%\n"
    }
   }
  },
  {
   "cell_type": "code",
   "execution_count": null,
   "outputs": [],
   "source": [
    "# Relative path from certain path (path, start) default start cwd\n",
    "print('\\nRelative path from {} to D:\\\\'.format(absolute_path))\n",
    "print(os.path.relpath(absolute_path, 'D:\\\\'))"
   ],
   "metadata": {
    "collapsed": false,
    "pycharm": {
     "name": "#%%\n"
    }
   }
  },
  {
   "cell_type": "code",
   "execution_count": null,
   "outputs": [],
   "source": [
    "# Using path join and getting dir and base name\n",
    "test_path = os.path.join(absolute_path, 'test', 'test_file.txt')\n",
    "print('\\nPath dir and base: ')\n",
    "print(test_path)\n",
    "print(os.path.dirname(test_path))\n",
    "print(os.path.basename(test_path))\n",
    "print(os.path.split(test_path))"
   ],
   "metadata": {
    "collapsed": false,
    "pycharm": {
     "name": "#%%\n"
    }
   }
  },
  {
   "cell_type": "code",
   "execution_count": null,
   "outputs": [],
   "source": [
    "# make directory\n",
    "if not os.path.exists('.\\\\test\\\\makefolder'):\n",
    "    os.makedirs('.\\\\test\\\\makefolder')\n"
   ],
   "metadata": {
    "collapsed": false,
    "pycharm": {
     "name": "#%%\n"
    }
   }
  },
  {
   "cell_type": "markdown",
   "source": [
    "Open and read files"
   ],
   "metadata": {
    "collapsed": false
   }
  },
  {
   "cell_type": "code",
   "execution_count": null,
   "outputs": [],
   "source": [
    "# Opening files\n",
    "print('\\nOpening file in {}'.format(test_path))\n",
    "test_file = open(test_path)"
   ],
   "metadata": {
    "collapsed": false,
    "pycharm": {
     "name": "#%%\n"
    }
   }
  },
  {
   "cell_type": "code",
   "execution_count": null,
   "outputs": [],
   "source": [
    "# Reading files\n",
    "test_content = test_file.read()\n",
    "print('File content: {}'.format(test_content))\n",
    "\n",
    "zen_file = open('.\\\\test\\\\zen.txt')\n",
    "print(zen_file.readlines())"
   ],
   "metadata": {
    "collapsed": false,
    "pycharm": {
     "name": "#%%\n"
    }
   }
  },
  {
   "cell_type": "code",
   "execution_count": null,
   "outputs": [],
   "source": [
    "# Writing to files r=read w=write a=append\n",
    "ender_file = open('ender.txt', 'w')\n",
    "ender_file.write('The enemy gate is down\\n')\n",
    "ender_file.close()\n",
    "ender_file = open('ender.txt', 'a')\n",
    "ender_file.write('The giant\\'s drink')\n",
    "ender_file.close()\n",
    "ender_file = open('ender.txt')\n",
    "content = ender_file.read()\n",
    "ender_file.close()\n",
    "print(content)"
   ],
   "metadata": {
    "collapsed": false,
    "pycharm": {
     "name": "#%%\n"
    }
   }
  },
  {
   "cell_type": "code",
   "execution_count": null,
   "outputs": [],
   "source": [
    "# Storing variables with shelve\n",
    "shelf_file = shelve.open('my_data')\n",
    "heroes = ['Jim', 'Finn', 'Thrall']\n",
    "shelf_file['heroes'] = heroes\n",
    "shelf_file.close()"
   ],
   "metadata": {
    "collapsed": false,
    "pycharm": {
     "name": "#%%\n"
    }
   }
  },
  {
   "cell_type": "code",
   "execution_count": null,
   "outputs": [],
   "source": [
    "# retrieving\n",
    "shelf_file = shelve.open('my_data')\n",
    "print('\\nStoring and retrieving data with shelve: ', shelf_file['heroes'])"
   ],
   "metadata": {
    "collapsed": false,
    "pycharm": {
     "name": "#%%\n"
    }
   }
  },
  {
   "cell_type": "code",
   "execution_count": null,
   "outputs": [],
   "source": [
    "# Data is stored like a dictionary\n",
    "print(list(shelf_file.keys()))\n",
    "print(list(shelf_file.values()))"
   ],
   "metadata": {
    "collapsed": false,
    "pycharm": {
     "name": "#%%\n"
    }
   }
  },
  {
   "cell_type": "code",
   "execution_count": null,
   "outputs": [],
   "source": [
    "# pretty print into .py file as a python variable and import\n",
    "cats = [{'name': 'Zophie', 'desc': 'chubby'}, {'name': 'Pooka', 'desc': 'fluffy'}]\n",
    "print(pprint.pformat(cats))\n",
    "cats_file = open('my_cats.py', 'w')\n",
    "cats_file.write('cats = ' + pprint.pformat(cats) + '\\n')\n",
    "cats_file.close()"
   ],
   "metadata": {
    "collapsed": false,
    "pycharm": {
     "name": "#%%\n"
    }
   }
  },
  {
   "cell_type": "markdown",
   "source": [
    "Copy and move file and folders"
   ],
   "metadata": {
    "collapsed": false
   }
  },
  {
   "cell_type": "code",
   "execution_count": null,
   "outputs": [],
   "source": [
    "# create copy folder\n",
    "if not os.path.exists('.\\\\testcopy'):\n",
    "    os.makedirs('.\\\\testcopy')"
   ],
   "metadata": {
    "collapsed": false,
    "pycharm": {
     "name": "#%%\n"
    }
   }
  },
  {
   "cell_type": "code",
   "execution_count": null,
   "outputs": [],
   "source": [
    "# copy file\n",
    "if os.path.exists('test\\\\test_file.txt'):\n",
    "    shutil.copy('test\\\\test_file.txt', 'testcopy\\\\test_file_copy.txt')"
   ],
   "metadata": {
    "collapsed": false,
    "pycharm": {
     "name": "#%%\n"
    }
   }
  },
  {
   "cell_type": "code",
   "execution_count": null,
   "outputs": [],
   "source": [
    "# copy directory\n",
    "if not os.path.exists('.\\\\testbackup'):\n",
    "    shutil.copytree('test', 'testbackup')"
   ],
   "metadata": {
    "collapsed": false,
    "pycharm": {
     "name": "#%%\n"
    }
   }
  },
  {
   "cell_type": "code",
   "execution_count": null,
   "outputs": [],
   "source": [
    "# move folder\n",
    "if os.path.exists('test\\\\zen.txt'):\n",
    "    shutil.move('test\\\\zen.txt', 'testcopy')"
   ],
   "metadata": {
    "collapsed": false,
    "pycharm": {
     "name": "#%%\n"
    }
   }
  },
  {
   "cell_type": "code",
   "execution_count": null,
   "outputs": [],
   "source": [
    "# rename by move to same folder with different name\n",
    "if os.path.exists('test\\\\test_file.txt'):\n",
    "    shutil.move('test\\\\test_file.txt', 'test\\\\test_file1.txt')\n",
    "else:\n",
    "    shutil.move('test\\\\test_file1.txt', 'test\\\\test_file.txt')"
   ],
   "metadata": {
    "collapsed": false,
    "pycharm": {
     "name": "#%%\n"
    }
   }
  },
  {
   "cell_type": "markdown",
   "source": [
    "Delete files and folders"
   ],
   "metadata": {
    "collapsed": false
   }
  },
  {
   "cell_type": "code",
   "execution_count": null,
   "outputs": [],
   "source": [
    "# delete single file\n",
    "# os.unlink('testcopy\\\\test_file_copy.txt')\n",
    "\n",
    "# delete empty folder\n",
    "if not os.path.exists('test\\\\makefolder'):\n",
    "    os.makedirs('test\\\\makefolder')\n",
    "else:\n",
    "    os.rmdir('test\\\\makefolder')\n",
    "\n",
    "# Delete folder and contents\n",
    "# if os.path.exists('.\\\\testbackup'):\n",
    "#     shutil.rmtree('.\\\\testbackup')"
   ],
   "metadata": {
    "collapsed": false,
    "pycharm": {
     "name": "#%%\n"
    }
   }
  },
  {
   "cell_type": "markdown",
   "source": [
    "Iterate over all folders and subfolders"
   ],
   "metadata": {
    "collapsed": false
   }
  },
  {
   "cell_type": "code",
   "execution_count": null,
   "outputs": [],
   "source": [
    "for foldername, subfolders, filenames in os.walk('.\\\\'):\n",
    "    print('Current folder: '+foldername)\n",
    "    print('Current subfolders: '+str(subfolders))\n",
    "    print('Current filenames: '+str(filenames))"
   ],
   "metadata": {
    "collapsed": false,
    "pycharm": {
     "name": "#%%\n"
    }
   }
  },
  {
   "cell_type": "markdown",
   "source": [
    "Read zipped file"
   ],
   "metadata": {
    "collapsed": false
   }
  },
  {
   "cell_type": "code",
   "execution_count": null,
   "outputs": [],
   "source": [
    "examplezip = zipfile.ZipFile('testcopy\\\\ender.zip')\n",
    "print(examplezip.namelist())"
   ],
   "metadata": {
    "collapsed": false,
    "pycharm": {
     "name": "#%%\n"
    }
   }
  },
  {
   "cell_type": "markdown",
   "source": [
    "Zipped file info"
   ],
   "metadata": {
    "collapsed": false
   }
  },
  {
   "cell_type": "code",
   "execution_count": null,
   "outputs": [],
   "source": [
    "zenInfo = examplezip.getinfo('zen.txt')\n",
    "print(zenInfo.file_size)\n",
    "print(zenInfo.compress_size)\n",
    "print('Compressed file is %sx smaller!' % (round(zenInfo.file_size / zenInfo.compress_size, 2)))"
   ],
   "metadata": {
    "collapsed": false,
    "pycharm": {
     "name": "#%%\n"
    }
   }
  },
  {
   "cell_type": "markdown",
   "source": [
    "Extract zip file to cwd or especified path"
   ],
   "metadata": {
    "collapsed": false
   }
  },
  {
   "cell_type": "code",
   "execution_count": null,
   "outputs": [],
   "source": [
    "# exampleZip.extractall()\n",
    "# exampleZip.extract('name', 'path')\n",
    "examplezip.close()"
   ],
   "metadata": {
    "collapsed": false,
    "pycharm": {
     "name": "#%%\n"
    }
   }
  },
  {
   "cell_type": "markdown",
   "source": [
    "Create zip files"
   ],
   "metadata": {
    "collapsed": false
   }
  },
  {
   "cell_type": "code",
   "execution_count": null,
   "outputs": [],
   "source": [
    "newZip = zipfile.ZipFile('new.zip', 'w')\n",
    "newZip.write('ender.txt', compress_type=zipfile.ZIP_DEFLATED)\n",
    "newZip.close()"
   ],
   "metadata": {
    "collapsed": false,
    "pycharm": {
     "name": "#%%\n"
    }
   }
  },
  {
   "cell_type": "markdown",
   "source": [
    "\n",
    "### Web Scraping\n"
   ],
   "metadata": {
    "collapsed": false
   }
  },
  {
   "cell_type": "code",
   "execution_count": null,
   "outputs": [],
   "source": [
    "import webbrowser\n",
    "import requests\n",
    "import bs4"
   ],
   "metadata": {
    "collapsed": false,
    "pycharm": {
     "name": "#%%\n"
    }
   }
  },
  {
   "cell_type": "markdown",
   "source": [
    "Get Address from paperclip and open+append to google maps"
   ],
   "metadata": {
    "collapsed": false
   }
  },
  {
   "cell_type": "code",
   "execution_count": null,
   "outputs": [],
   "source": [
    "address = pyperclip.paste()\n",
    "webbrowser.open('https://www.google.com/maps/place/' + address)"
   ],
   "metadata": {
    "collapsed": false,
    "pycharm": {
     "name": "#%%\n"
    }
   }
  },
  {
   "cell_type": "markdown",
   "source": [
    "Using request module to download files from the Web"
   ],
   "metadata": {
    "collapsed": false
   }
  },
  {
   "cell_type": "code",
   "execution_count": null,
   "outputs": [],
   "source": [
    "# Get url\n",
    "res = requests.get('https://automatetheboringstuff.com/files/rj.txt')\n",
    "# Check for errors\n",
    "try:\n",
    "    res.raise_for_status()\n",
    "except Exception as exc:\n",
    "    print('There was a problem: %s' % exc)\n",
    "\n",
    "# Save downloaded content to file\n",
    "playFile = open('RomeoAndJuliet.txt', 'wb')\n",
    "for chunk in res.iter_content(100000):\n",
    "    playFile.write(chunk)\n",
    "playFile.close()"
   ],
   "metadata": {
    "collapsed": false,
    "pycharm": {
     "name": "#%%\n"
    }
   }
  },
  {
   "cell_type": "markdown",
   "source": [
    "Parse HTML data using beautiful soup\n"
   ],
   "metadata": {
    "collapsed": false
   }
  },
  {
   "cell_type": "code",
   "execution_count": null,
   "outputs": [],
   "source": [
    "# Get url\n",
    "res = requests.get('http://nostarch.com')\n",
    "res.raise_for_status()\n",
    "noStarchSoup = bs4.BeautifulSoup(res.text)\n",
    "type(noStarchSoup)"
   ],
   "metadata": {
    "collapsed": false,
    "pycharm": {
     "name": "#%%\n"
    }
   }
  },
  {
   "cell_type": "code",
   "execution_count": null,
   "outputs": [],
   "source": [
    "# Find and print the names of books from the parsed HTML\n",
    "books = noStarchSoup.select('div.field.field-name-body.field-type-text-with-summary.field-label-hidden > div > div > p > a')\n",
    "for book in books:\n",
    "    print(book.text)"
   ],
   "metadata": {
    "collapsed": false,
    "pycharm": {
     "name": "#%%\n"
    }
   }
  },
  {
   "cell_type": "markdown",
   "source": [
    "Using Selenium to control browser\n"
   ],
   "metadata": {
    "collapsed": false
   }
  },
  {
   "cell_type": "code",
   "execution_count": null,
   "outputs": [],
   "source": [
    "# Open google, click on images, fill form and submit\n",
    "import time\n",
    "from selenium import webdriver\n",
    "\n",
    "driver = webdriver.Chrome()\n",
    "driver.get('http://google.com')\n",
    "time.sleep(1)\n",
    "element = driver.find_element_by_css_selector('#gbw > div > div > div.gb_Fd.gb_f.gb_5f.gb_Vf > div:nth-child(2) > a')\n",
    "\n",
    "element.click()\n",
    "\n",
    "search_box = driver.find_element_by_xpath('//*[@id=\"tsf\"]/div[2]/div/div[1]/div/div[1]/input')\n",
    "\n",
    "\n",
    "search_box.send_keys('Automate the boring stuff')\n",
    "search_box.submit()\n",
    "time.sleep(3) \n",
    "driver.quit()"
   ],
   "metadata": {
    "collapsed": false,
    "pycharm": {
     "name": "#%%\n"
    }
   }
  },
  {
   "cell_type": "markdown",
   "source": [
    "\n",
    "### Documents\n",
    "\n"
   ],
   "metadata": {
    "collapsed": false
   }
  },
  {
   "cell_type": "markdown",
   "source": [
    "Working with excel files\n"
   ],
   "metadata": {
    "collapsed": false
   }
  },
  {
   "cell_type": "code",
   "execution_count": null,
   "outputs": [],
   "source": [
    "import openpyxl"
   ],
   "metadata": {
    "collapsed": false,
    "pycharm": {
     "name": "#%%\n"
    }
   }
  },
  {
   "cell_type": "markdown",
   "source": [
    "Open and read data from workbooks\n"
   ],
   "metadata": {
    "collapsed": false
   }
  },
  {
   "cell_type": "code",
   "execution_count": null,
   "outputs": [],
   "source": [
    "wb = openpyxl.load_workbook('example.xlsx')\n",
    "sheet_names = wb.sheetnames\n",
    "sheet1 = wb['Sheet1']\n",
    "print(sheet_names)\n",
    "type(sheet1)"
   ],
   "metadata": {
    "collapsed": false,
    "pycharm": {
     "name": "#%%\n"
    }
   }
  },
  {
   "cell_type": "code",
   "execution_count": null,
   "outputs": [],
   "source": [
    "# sheet1['B1'].value\n",
    "for i in range(1, 8):\n",
    "    print(i, sheet1.cell(row=i, column=2).value)"
   ],
   "metadata": {
    "collapsed": false,
    "pycharm": {
     "name": "#%%\n"
    }
   }
  },
  {
   "cell_type": "markdown",
   "source": [
    "Editing excel documents\n"
   ],
   "metadata": {
    "collapsed": false
   }
  },
  {
   "cell_type": "code",
   "execution_count": null,
   "outputs": [],
   "source": [
    "# Create, add data and save new excel\n",
    "new_wb = openpyxl.Workbook()\n",
    "sheet = new_wb['Sheet']\n",
    "sheet['A1'] = 42\n",
    "sheet['A2'] = 'Hello'\n",
    "wb.save('new_wb.xlsx')"
   ],
   "metadata": {
    "collapsed": false,
    "pycharm": {
     "name": "#%%\n"
    }
   }
  },
  {
   "cell_type": "markdown",
   "source": [
    "Reading PDF's\n"
   ],
   "metadata": {
    "collapsed": false
   }
  },
  {
   "cell_type": "code",
   "execution_count": null,
   "outputs": [],
   "source": [
    "import PyPDF2"
   ],
   "metadata": {
    "collapsed": false,
    "pycharm": {
     "name": "#%%\n"
    }
   }
  },
  {
   "cell_type": "code",
   "execution_count": null,
   "outputs": [],
   "source": [
    "pdfFile = open('meetingminutes1.pdf', 'rb')\n",
    "reader = PyPDF2.PdfFileReader(pdfFile)\n",
    "print(reader.numPages)\n",
    "page = reader.getPage(0)\n",
    "print(page.extractText())"
   ],
   "metadata": {
    "collapsed": false,
    "pycharm": {
     "name": "#%%\n"
    }
   }
  },
  {
   "cell_type": "markdown",
   "source": [
    "Combine pdf's"
   ],
   "metadata": {
    "collapsed": false
   }
  },
  {
   "cell_type": "code",
   "execution_count": null,
   "outputs": [],
   "source": [
    "pdfFile2 = open('meetingminutes2.pdf', 'rb')\n",
    "reader2 = PyPDF2.PdfFileReader(pdfFile2)\n",
    "merger = PyPDF2.PdfFileMerger()\n",
    "merger.append(reader)\n",
    "merger.append(reader2)\n",
    "\n",
    "merger.write(\"document-output.pdf\")\n",
    "# It is also possible to rotate, copy and slice pages"
   ],
   "metadata": {
    "collapsed": false,
    "pycharm": {
     "name": "#%%\n"
    }
   }
  },
  {
   "cell_type": "markdown",
   "source": [
    "Working with Word documents"
   ],
   "metadata": {
    "collapsed": false
   }
  },
  {
   "cell_type": "code",
   "execution_count": null,
   "outputs": [],
   "source": [
    "import docx\n",
    "# Load and read paragraphs\n",
    "doc = docx.Document('demo.docx')\n",
    "len(doc.paragraphs)\n",
    "print(doc.paragraphs[1].text)\n",
    "paragraph = doc.paragraphs[1]\n",
    "print(paragraph.runs[0].text)\n",
    "print(paragraph.runs[1].bold)\n",
    "# Change style\n",
    "paragraph.runs[1].underline = True"
   ],
   "metadata": {
    "collapsed": false,
    "pycharm": {
     "name": "#%%\n"
    }
   }
  },
  {
   "cell_type": "markdown",
   "source": [
    "New word document"
   ],
   "metadata": {
    "collapsed": false
   }
  },
  {
   "cell_type": "code",
   "execution_count": null,
   "outputs": [],
   "source": [
    "new_doc = docx.Document()\n",
    "new_doc.add_paragraph('Hello world')\n",
    "new_doc.add_paragraph('Goodbye')\n",
    "new_doc.save('new_doc.docx')"
   ],
   "metadata": {
    "collapsed": false,
    "pycharm": {
     "name": "#%%\n"
    }
   }
  },
  {
   "cell_type": "markdown",
   "source": [
    "\n",
    "### Email\n"
   ],
   "metadata": {
    "collapsed": false
   }
  },
  {
   "cell_type": "code",
   "execution_count": null,
   "outputs": [],
   "source": [
    "# Simple mail transfer protocol\n",
    "import smtplib\n",
    "# connect\n",
    "smtObj = smtplib.SMTP('smtp-mail.outlook.com')\n",
    "smtObj.ehlo()\n",
    "smtObj.starttls()"
   ],
   "metadata": {
    "collapsed": false,
    "pycharm": {
     "name": "#%%\n"
    }
   }
  },
  {
   "cell_type": "code",
   "execution_count": null,
   "outputs": [],
   "source": [
    "import os"
   ],
   "metadata": {
    "collapsed": false,
    "pycharm": {
     "name": "#%%\n"
    }
   }
  },
  {
   "cell_type": "code",
   "execution_count": null,
   "outputs": [],
   "source": [
    "smtObj.login(os.environ['EMAIL'], os.environ['PASSWORD'])"
   ],
   "metadata": {
    "collapsed": false,
    "pycharm": {
     "name": "#%%\n"
    }
   }
  },
  {
   "cell_type": "code",
   "execution_count": null,
   "outputs": [],
   "source": [
    "smtObj.sendmail(os.environ['EMAIL'], 'perezmarquezfelix@gmail.com', 'Subject: Hello \\n\\n It\\'s me')"
   ],
   "metadata": {
    "collapsed": false,
    "pycharm": {
     "name": "#%%\n"
    }
   }
  },
  {
   "cell_type": "code",
   "execution_count": null,
   "outputs": [],
   "source": [
    "smtObj.close()"
   ],
   "metadata": {
    "collapsed": false,
    "pycharm": {
     "name": "#%% \n"
    }
   }
  },
  {
   "cell_type": "markdown",
   "source": [
    "\n",
    "### GUI Automation\n"
   ],
   "metadata": {
    "collapsed": false
   }
  },
  {
   "cell_type": "code",
   "execution_count": null,
   "outputs": [],
   "source": [
    "import pyautogui"
   ],
   "metadata": {
    "collapsed": false,
    "pycharm": {
     "name": "#%%\n"
    }
   }
  },
  {
   "cell_type": "markdown",
   "source": [
    "Controlling the mouse with Python"
   ],
   "metadata": {
    "collapsed": false
   }
  },
  {
   "cell_type": "code",
   "execution_count": null,
   "outputs": [],
   "source": [
    "pyautogui.size()"
   ],
   "metadata": {
    "collapsed": false,
    "pycharm": {
     "name": "#%%\n"
    }
   }
  },
  {
   "cell_type": "code",
   "execution_count": null,
   "outputs": [],
   "source": [
    "# Move mouse to position\n",
    "pyautogui.moveTo(960,540, duration=0.5)"
   ],
   "metadata": {
    "collapsed": false,
    "pycharm": {
     "name": "#%%\n"
    }
   }
  },
  {
   "cell_type": "code",
   "execution_count": null,
   "outputs": [],
   "source": [
    "# Move mouse relative\n",
    "pyautogui.moveRel(500,100, duration=0.5)"
   ],
   "metadata": {
    "collapsed": false,
    "pycharm": {
     "name": "#%%\n"
    }
   }
  },
  {
   "cell_type": "code",
   "execution_count": null,
   "outputs": [],
   "source": [
    "# Retrieve mouse position and click\n",
    "pyautogui.position()\n",
    "pyautogui.click()\n",
    "pyautogui.doubleClick()\n",
    "# pyautogui.rightClick()\n",
    "# pyautogui.middleClick()"
   ],
   "metadata": {
    "collapsed": false,
    "pycharm": {
     "name": "#%%\n"
    }
   }
  },
  {
   "cell_type": "markdown",
   "source": [
    "Controlling the keyboard"
   ],
   "metadata": {
    "collapsed": false
   }
  },
  {
   "cell_type": "code",
   "execution_count": null,
   "outputs": [],
   "source": [
    "pyautogui.moveTo(222, 52, duration=1)\n",
    "pyautogui.doubleClick()\n",
    "pyautogui.press('esc')\n",
    "pyautogui.typewrite('google.com', interval=0.2)\n",
    "#pyautogui.KEYBOARD_KEYS"
   ],
   "metadata": {
    "collapsed": false,
    "pycharm": {
     "name": "#%%\n"
    }
   }
  },
  {
   "cell_type": "markdown",
   "source": [
    "Screenshots and image recognition"
   ],
   "metadata": {
    "collapsed": false
   }
  },
  {
   "cell_type": "code",
   "execution_count": null,
   "outputs": [],
   "source": [
    "# Take screenshots\n",
    "\n",
    "# pyautogui.screenshot('screenshot_example.png')\n",
    "\n",
    "# Find the position of object in image\n",
    "\n",
    "pyautogui.locateOnScreen('image.png') # locateCenterOnScreen\n"
   ],
   "metadata": {
    "collapsed": false,
    "pycharm": {
     "name": "#%%\n"
    }
   }
  }
 ],
 "metadata": {
  "language_info": {
   "codemirror_mode": {
    "name": "ipython",
    "version": 2
   },
   "file_extension": ".py",
   "mimetype": "text/x-python",
   "name": "python",
   "nbconvert_exporter": "python",
   "pygments_lexer": "ipython2",
   "version": "2.7.6"
  },
  "kernelspec": {
   "name": "python3",
   "language": "python",
   "display_name": "Python 3"
  },
  "pycharm": {
   "stem_cell": {
    "cell_type": "raw",
    "source": [],
    "metadata": {
     "collapsed": false
    }
   }
  }
 },
 "nbformat": 4,
 "nbformat_minor": 0
}